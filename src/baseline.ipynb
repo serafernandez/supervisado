{
 "cells": [
  {
   "cell_type": "markdown",
   "metadata": {},
   "source": [
    "# Diplodatos Kaggle Competition"
   ]
  },
  {
   "cell_type": "markdown",
   "metadata": {},
   "source": [
    "We present this peace of code to create the baseline for the competition, and as an example of how to deal with these kind of problems. The main goals are that you:\n",
    "\n",
    "1. Learn\n",
    "1. Try different models and see which one fits the best the given data\n",
    "1. Get a higher score than the given one in the current baseline example\n",
    "1. Try to get the highest score in the class :)"
   ]
  },
  {
   "cell_type": "code",
   "execution_count": 1,
   "metadata": {},
   "outputs": [],
   "source": [
    "# Import the required packages\n",
    "import os\n",
    "\n",
    "import numpy as np\n",
    "import pandas as pd\n",
    "import matplotlib.pyplot as plt"
   ]
  },
  {
   "cell_type": "code",
   "execution_count": 2,
   "metadata": {},
   "outputs": [],
   "source": [
    "# load the given labels\n",
    "breed = pd.read_csv('../data/breed_labels.csv')\n",
    "color = pd.read_csv('../data/color_labels.csv')\n",
    "state = pd.read_csv('../data/state_labels.csv')"
   ]
  },
  {
   "cell_type": "markdown",
   "metadata": {},
   "source": [
    "Now we take a look at the labels, just to understand what these are"
   ]
  },
  {
   "cell_type": "code",
   "execution_count": 3,
   "metadata": {},
   "outputs": [
    {
     "data": {
      "text/plain": [
       "array(['Affenpinscher', 'Afghan Hound', 'Airedale Terrier', 'Akbash',\n",
       "       'Akita', 'Alaskan Malamute', 'American Bulldog',\n",
       "       'American Eskimo Dog', 'American Hairless Terrier',\n",
       "       'American Staffordshire Terrier', 'American Water Spaniel',\n",
       "       'Anatolian Shepherd', 'Appenzell Mountain Dog',\n",
       "       'Australian Cattle Dog/Blue Heeler', 'Australian Kelpie',\n",
       "       'Australian Shepherd', 'Australian Terrier', 'Basenji',\n",
       "       'Basset Hound', 'Beagle', 'Bearded Collie', 'Beauceron',\n",
       "       'Bedlington Terrier', 'Belgian Shepherd Dog Sheepdog',\n",
       "       'Belgian Shepherd Laekenois', 'Belgian Shepherd Malinois',\n",
       "       'Belgian Shepherd Tervuren', 'Bernese Mountain Dog',\n",
       "       'Bichon Frise', 'Black and Tan Coonhound',\n",
       "       'Black Labrador Retriever', 'Black Mouth Cur',\n",
       "       'Black Russian Terrier', 'Bloodhound', 'Blue Lacy',\n",
       "       'Bluetick Coonhound', 'Boerboel', 'Bolognese', 'Border Collie',\n",
       "       'Border Terrier', 'Borzoi', 'Boston Terrier',\n",
       "       'Bouvier des Flanders', 'Boxer', 'Boykin Spaniel', 'Briard',\n",
       "       'Brittany Spaniel', 'Brussels Griffon', 'Bull Terrier',\n",
       "       'Bullmastiff', 'Cairn Terrier', 'Canaan Dog', 'Cane Corso Mastiff',\n",
       "       'Carolina Dog', 'Catahoula Leopard Dog', 'Cattle Dog',\n",
       "       'Caucasian Sheepdog (Caucasian Ovtcharka)',\n",
       "       'Cavalier King Charles Spaniel', 'Chesapeake Bay Retriever',\n",
       "       'Chihuahua', 'Chinese Crested Dog', 'Chinese Foo Dog', 'Chinook',\n",
       "       'Chocolate Labrador Retriever', 'Chow Chow', \"Cirneco dell'Etna\",\n",
       "       'Clumber Spaniel', 'Cockapoo', 'Cocker Spaniel', 'Collie',\n",
       "       'Coonhound', 'Corgi', 'Coton de Tulear', 'Curly-Coated Retriever',\n",
       "       'Dachshund', 'Dalmatian', 'Dandi Dinmont Terrier',\n",
       "       'Doberman Pinscher', 'Dogo Argentino', 'Dogue de Bordeaux',\n",
       "       'Dutch Shepherd', 'English Bulldog', 'English Cocker Spaniel',\n",
       "       'English Coonhound', 'English Pointer', 'English Setter',\n",
       "       'English Shepherd', 'English Springer Spaniel',\n",
       "       'English Toy Spaniel', 'Entlebucher', 'Eskimo Dog', 'Feist',\n",
       "       'Field Spaniel', 'Fila Brasileiro', 'Finnish Lapphund',\n",
       "       'Finnish Spitz', 'Flat-coated Retriever', 'Fox Terrier',\n",
       "       'Foxhound', 'French Bulldog', 'Galgo Spanish Greyhound',\n",
       "       'German Pinscher', 'German Shepherd Dog',\n",
       "       'German Shorthaired Pointer', 'German Spitz',\n",
       "       'German Wirehaired Pointer', 'Giant Schnauzer',\n",
       "       'Glen of Imaal Terrier', 'Golden Retriever', 'Gordon Setter',\n",
       "       'Great Dane', 'Great Pyrenees', 'Greater Swiss Mountain Dog',\n",
       "       'Greyhound', 'Harrier', 'Havanese', 'Hound', 'Hovawart', 'Husky',\n",
       "       'Ibizan Hound', 'Illyrian Sheepdog', 'Irish Setter',\n",
       "       'Irish Terrier', 'Irish Water Spaniel', 'Irish Wolfhound',\n",
       "       'Italian Greyhound', 'Italian Spinone', 'Jack Russell Terrier',\n",
       "       'Jack Russell Terrier (Parson Russell Terrier)', 'Japanese Chin',\n",
       "       'Jindo', 'Kai Dog', 'Karelian Bear Dog', 'Keeshond',\n",
       "       'Kerry Blue Terrier', 'Kishu', 'Klee Kai', 'Komondor', 'Kuvasz',\n",
       "       'Kyi Leo', 'Labrador Retriever', 'Lakeland Terrier',\n",
       "       'Lancashire Heeler', 'Leonberger', 'Lhasa Apso', 'Lowchen',\n",
       "       'Maltese', 'Manchester Terrier', 'Maremma Sheepdog', 'Mastiff',\n",
       "       'McNab', 'Miniature Pinscher', 'Mountain Cur', 'Mountain Dog',\n",
       "       'Munsterlander', 'Neapolitan Mastiff', 'New Guinea Singing Dog',\n",
       "       'Newfoundland Dog', 'Norfolk Terrier', 'Norwegian Buhund',\n",
       "       'Norwegian Elkhound', 'Norwegian Lundehund', 'Norwich Terrier',\n",
       "       'Nova Scotia Duck-Tolling Retriever', 'Old English Sheepdog',\n",
       "       'Otterhound', 'Papillon', 'Patterdale Terrier (Fell Terrier)',\n",
       "       'Pekingese', 'Peruvian Inca Orchid',\n",
       "       'Petit Basset Griffon Vendeen', 'Pharaoh Hound',\n",
       "       'Pit Bull Terrier', 'Plott Hound', 'Podengo Portugueso', 'Pointer',\n",
       "       'Polish Lowland Sheepdog', 'Pomeranian', 'Poodle',\n",
       "       'Portuguese Water Dog', 'Presa Canario', 'Pug', 'Puli', 'Pumi',\n",
       "       'Rat Terrier', 'Redbone Coonhound', 'Retriever',\n",
       "       'Rhodesian Ridgeback', 'Rottweiler', 'Saint Bernard', 'Saluki',\n",
       "       'Samoyed', 'Sarplaninac', 'Schipperke', 'Schnauzer',\n",
       "       'Scottish Deerhound', 'Scottish Terrier Scottie',\n",
       "       'Sealyham Terrier', 'Setter', 'Shar Pei', 'Sheep Dog', 'Shepherd',\n",
       "       'Shetland Sheepdog Sheltie', 'Shiba Inu', 'Shih Tzu',\n",
       "       'Siberian Husky', 'Silky Terrier', 'Skye Terrier', 'Sloughi',\n",
       "       'Smooth Fox Terrier', 'South Russian Ovtcharka', 'Spaniel',\n",
       "       'Spitz', 'Staffordshire Bull Terrier', 'Standard Poodle',\n",
       "       'Sussex Spaniel', 'Swedish Vallhund', 'Terrier', 'Thai Ridgeback',\n",
       "       'Tibetan Mastiff', 'Tibetan Spaniel', 'Tibetan Terrier',\n",
       "       'Tosa Inu', 'Toy Fox Terrier', 'Treeing Walker Coonhound',\n",
       "       'Vizsla', 'Weimaraner', 'Welsh Corgi', 'Welsh Springer Spaniel',\n",
       "       'Welsh Terrier', 'West Highland White Terrier Westie',\n",
       "       'Wheaten Terrier', 'Whippet', 'White German Shepherd',\n",
       "       'Wire Fox Terrier', 'Wire-haired Pointing Griffon',\n",
       "       'Wirehaired Terrier', 'Xoloitzcuintle/Mexican Hairless',\n",
       "       'Yellow Labrador Retriever', 'Yorkshire Terrier Yorkie',\n",
       "       'Mixed Breed', 'Abyssinian', 'American Curl', 'American Shorthair',\n",
       "       'American Wirehair', 'Applehead Siamese', 'Balinese', 'Bengal',\n",
       "       'Birman', 'Bobtail', 'Bombay', 'British Shorthair', 'Burmese',\n",
       "       'Burmilla', 'Calico', 'Canadian Hairless', 'Chartreux', 'Chausie',\n",
       "       'Chinchilla', 'Cornish Rex', 'Cymric', 'Devon Rex',\n",
       "       'Dilute Calico', 'Dilute Tortoiseshell', 'Domestic Long Hair',\n",
       "       'Domestic Medium Hair', 'Domestic Short Hair', 'Egyptian Mau',\n",
       "       'Exotic Shorthair', 'Extra-Toes Cat (Hemingway Polydactyl)',\n",
       "       'Havana', 'Himalayan', 'Japanese Bobtail', 'Javanese', 'Korat',\n",
       "       'LaPerm', 'Maine Coon', 'Manx', 'Munchkin', 'Nebelung',\n",
       "       'Norwegian Forest Cat', 'Ocicat', 'Oriental Long Hair',\n",
       "       'Oriental Short Hair', 'Oriental Tabby', 'Persian', 'Pixie-Bob',\n",
       "       'Ragamuffin', 'Ragdoll', 'Russian Blue', 'Scottish Fold',\n",
       "       'Selkirk Rex', 'Siamese', 'Siberian', 'Silver', 'Singapura',\n",
       "       'Snowshoe', 'Somali', 'Sphynx (hairless cat)', 'Tabby', 'Tiger',\n",
       "       'Tonkinese', 'Torbie', 'Tortoiseshell', 'Turkish Angora',\n",
       "       'Turkish Van', 'Tuxedo'], dtype=object)"
      ]
     },
     "execution_count": 3,
     "metadata": {},
     "output_type": "execute_result"
    }
   ],
   "source": [
    "breed[\"BreedName\"].unique()"
   ]
  },
  {
   "cell_type": "code",
   "execution_count": 4,
   "metadata": {},
   "outputs": [
    {
     "data": {
      "text/html": [
       "<div>\n",
       "<style scoped>\n",
       "    .dataframe tbody tr th:only-of-type {\n",
       "        vertical-align: middle;\n",
       "    }\n",
       "\n",
       "    .dataframe tbody tr th {\n",
       "        vertical-align: top;\n",
       "    }\n",
       "\n",
       "    .dataframe thead th {\n",
       "        text-align: right;\n",
       "    }\n",
       "</style>\n",
       "<table border=\"1\" class=\"dataframe\">\n",
       "  <thead>\n",
       "    <tr style=\"text-align: right;\">\n",
       "      <th></th>\n",
       "      <th>ColorID</th>\n",
       "      <th>ColorName</th>\n",
       "    </tr>\n",
       "  </thead>\n",
       "  <tbody>\n",
       "    <tr>\n",
       "      <th>0</th>\n",
       "      <td>1</td>\n",
       "      <td>Black</td>\n",
       "    </tr>\n",
       "    <tr>\n",
       "      <th>1</th>\n",
       "      <td>2</td>\n",
       "      <td>Brown</td>\n",
       "    </tr>\n",
       "    <tr>\n",
       "      <th>2</th>\n",
       "      <td>3</td>\n",
       "      <td>Golden</td>\n",
       "    </tr>\n",
       "    <tr>\n",
       "      <th>3</th>\n",
       "      <td>4</td>\n",
       "      <td>Yellow</td>\n",
       "    </tr>\n",
       "    <tr>\n",
       "      <th>4</th>\n",
       "      <td>5</td>\n",
       "      <td>Cream</td>\n",
       "    </tr>\n",
       "  </tbody>\n",
       "</table>\n",
       "</div>"
      ],
      "text/plain": [
       "   ColorID ColorName\n",
       "0        1     Black\n",
       "1        2     Brown\n",
       "2        3    Golden\n",
       "3        4    Yellow\n",
       "4        5     Cream"
      ]
     },
     "execution_count": 4,
     "metadata": {},
     "output_type": "execute_result"
    }
   ],
   "source": [
    "color.head()"
   ]
  },
  {
   "cell_type": "markdown",
   "metadata": {},
   "source": [
    "state[state]"
   ]
  },
  {
   "cell_type": "markdown",
   "metadata": {},
   "source": [
    "And now we are ready to deal with the *original* dataset..."
   ]
  },
  {
   "cell_type": "code",
   "execution_count": 5,
   "metadata": {},
   "outputs": [],
   "source": [
    "original_df = pd.read_csv('../data/train.csv')"
   ]
  },
  {
   "cell_type": "code",
   "execution_count": 6,
   "metadata": {},
   "outputs": [
    {
     "data": {
      "text/plain": [
       "Index(['Type', 'Age', 'Breed1', 'Breed2', 'Gender', 'Color1', 'Color2',\n",
       "       'Color3', 'MaturitySize', 'FurLength', 'Vaccinated', 'Dewormed',\n",
       "       'Sterilized', 'Health', 'Quantity', 'Fee', 'State', 'Description',\n",
       "       'AdoptionSpeed', 'PID'],\n",
       "      dtype='object')"
      ]
     },
     "execution_count": 6,
     "metadata": {},
     "output_type": "execute_result"
    }
   ],
   "source": [
    "original_df.columns"
   ]
  },
  {
   "cell_type": "code",
   "execution_count": 7,
   "metadata": {},
   "outputs": [
    {
     "data": {
      "text/html": [
       "<div>\n",
       "<style scoped>\n",
       "    .dataframe tbody tr th:only-of-type {\n",
       "        vertical-align: middle;\n",
       "    }\n",
       "\n",
       "    .dataframe tbody tr th {\n",
       "        vertical-align: top;\n",
       "    }\n",
       "\n",
       "    .dataframe thead th {\n",
       "        text-align: right;\n",
       "    }\n",
       "</style>\n",
       "<table border=\"1\" class=\"dataframe\">\n",
       "  <thead>\n",
       "    <tr style=\"text-align: right;\">\n",
       "      <th></th>\n",
       "      <th>Type</th>\n",
       "      <th>Age</th>\n",
       "      <th>Breed1</th>\n",
       "      <th>Breed2</th>\n",
       "      <th>Gender</th>\n",
       "      <th>Color1</th>\n",
       "      <th>Color2</th>\n",
       "      <th>Color3</th>\n",
       "      <th>MaturitySize</th>\n",
       "      <th>FurLength</th>\n",
       "      <th>Vaccinated</th>\n",
       "      <th>Dewormed</th>\n",
       "      <th>Sterilized</th>\n",
       "      <th>Health</th>\n",
       "      <th>Quantity</th>\n",
       "      <th>Fee</th>\n",
       "      <th>State</th>\n",
       "      <th>AdoptionSpeed</th>\n",
       "      <th>PID</th>\n",
       "    </tr>\n",
       "  </thead>\n",
       "  <tbody>\n",
       "    <tr>\n",
       "      <th>count</th>\n",
       "      <td>10582.000000</td>\n",
       "      <td>10582.000000</td>\n",
       "      <td>10582.000000</td>\n",
       "      <td>10582.000000</td>\n",
       "      <td>10582.000000</td>\n",
       "      <td>10582.000000</td>\n",
       "      <td>10582.000000</td>\n",
       "      <td>10582.000000</td>\n",
       "      <td>10582.000000</td>\n",
       "      <td>10582.000000</td>\n",
       "      <td>10582.000000</td>\n",
       "      <td>10582.000000</td>\n",
       "      <td>10582.000000</td>\n",
       "      <td>10582.000000</td>\n",
       "      <td>10582.000000</td>\n",
       "      <td>10582.000000</td>\n",
       "      <td>10582.000000</td>\n",
       "      <td>10582.000000</td>\n",
       "      <td>10582.000000</td>\n",
       "    </tr>\n",
       "    <tr>\n",
       "      <th>mean</th>\n",
       "      <td>1.454734</td>\n",
       "      <td>10.520412</td>\n",
       "      <td>265.469854</td>\n",
       "      <td>74.388868</td>\n",
       "      <td>1.779059</td>\n",
       "      <td>2.230675</td>\n",
       "      <td>3.236912</td>\n",
       "      <td>1.856738</td>\n",
       "      <td>1.860518</td>\n",
       "      <td>1.460971</td>\n",
       "      <td>1.729730</td>\n",
       "      <td>1.566528</td>\n",
       "      <td>1.912115</td>\n",
       "      <td>1.036666</td>\n",
       "      <td>1.584011</td>\n",
       "      <td>20.809960</td>\n",
       "      <td>41345.994613</td>\n",
       "      <td>2.518900</td>\n",
       "      <td>7477.025799</td>\n",
       "    </tr>\n",
       "    <tr>\n",
       "      <th>std</th>\n",
       "      <td>0.497970</td>\n",
       "      <td>18.374027</td>\n",
       "      <td>60.121490</td>\n",
       "      <td>123.434010</td>\n",
       "      <td>0.684763</td>\n",
       "      <td>1.743985</td>\n",
       "      <td>2.748595</td>\n",
       "      <td>2.974465</td>\n",
       "      <td>0.547535</td>\n",
       "      <td>0.593843</td>\n",
       "      <td>0.670791</td>\n",
       "      <td>0.701482</td>\n",
       "      <td>0.564041</td>\n",
       "      <td>0.198228</td>\n",
       "      <td>1.488348</td>\n",
       "      <td>78.397243</td>\n",
       "      <td>32.409109</td>\n",
       "      <td>1.176018</td>\n",
       "      <td>4310.921553</td>\n",
       "    </tr>\n",
       "    <tr>\n",
       "      <th>min</th>\n",
       "      <td>1.000000</td>\n",
       "      <td>0.000000</td>\n",
       "      <td>0.000000</td>\n",
       "      <td>0.000000</td>\n",
       "      <td>1.000000</td>\n",
       "      <td>1.000000</td>\n",
       "      <td>0.000000</td>\n",
       "      <td>0.000000</td>\n",
       "      <td>1.000000</td>\n",
       "      <td>1.000000</td>\n",
       "      <td>1.000000</td>\n",
       "      <td>1.000000</td>\n",
       "      <td>1.000000</td>\n",
       "      <td>1.000000</td>\n",
       "      <td>1.000000</td>\n",
       "      <td>0.000000</td>\n",
       "      <td>41324.000000</td>\n",
       "      <td>0.000000</td>\n",
       "      <td>0.000000</td>\n",
       "    </tr>\n",
       "    <tr>\n",
       "      <th>25%</th>\n",
       "      <td>1.000000</td>\n",
       "      <td>2.000000</td>\n",
       "      <td>265.000000</td>\n",
       "      <td>0.000000</td>\n",
       "      <td>1.000000</td>\n",
       "      <td>1.000000</td>\n",
       "      <td>0.000000</td>\n",
       "      <td>0.000000</td>\n",
       "      <td>2.000000</td>\n",
       "      <td>1.000000</td>\n",
       "      <td>1.000000</td>\n",
       "      <td>1.000000</td>\n",
       "      <td>2.000000</td>\n",
       "      <td>1.000000</td>\n",
       "      <td>1.000000</td>\n",
       "      <td>0.000000</td>\n",
       "      <td>41326.000000</td>\n",
       "      <td>2.000000</td>\n",
       "      <td>3768.250000</td>\n",
       "    </tr>\n",
       "    <tr>\n",
       "      <th>50%</th>\n",
       "      <td>1.000000</td>\n",
       "      <td>3.000000</td>\n",
       "      <td>266.000000</td>\n",
       "      <td>0.000000</td>\n",
       "      <td>2.000000</td>\n",
       "      <td>2.000000</td>\n",
       "      <td>2.000000</td>\n",
       "      <td>0.000000</td>\n",
       "      <td>2.000000</td>\n",
       "      <td>1.000000</td>\n",
       "      <td>2.000000</td>\n",
       "      <td>1.000000</td>\n",
       "      <td>2.000000</td>\n",
       "      <td>1.000000</td>\n",
       "      <td>1.000000</td>\n",
       "      <td>0.000000</td>\n",
       "      <td>41326.000000</td>\n",
       "      <td>2.000000</td>\n",
       "      <td>7473.500000</td>\n",
       "    </tr>\n",
       "    <tr>\n",
       "      <th>75%</th>\n",
       "      <td>2.000000</td>\n",
       "      <td>12.000000</td>\n",
       "      <td>307.000000</td>\n",
       "      <td>188.000000</td>\n",
       "      <td>2.000000</td>\n",
       "      <td>3.000000</td>\n",
       "      <td>6.000000</td>\n",
       "      <td>5.000000</td>\n",
       "      <td>2.000000</td>\n",
       "      <td>2.000000</td>\n",
       "      <td>2.000000</td>\n",
       "      <td>2.000000</td>\n",
       "      <td>2.000000</td>\n",
       "      <td>1.000000</td>\n",
       "      <td>1.000000</td>\n",
       "      <td>0.000000</td>\n",
       "      <td>41401.000000</td>\n",
       "      <td>4.000000</td>\n",
       "      <td>11200.750000</td>\n",
       "    </tr>\n",
       "    <tr>\n",
       "      <th>max</th>\n",
       "      <td>2.000000</td>\n",
       "      <td>255.000000</td>\n",
       "      <td>307.000000</td>\n",
       "      <td>307.000000</td>\n",
       "      <td>3.000000</td>\n",
       "      <td>7.000000</td>\n",
       "      <td>7.000000</td>\n",
       "      <td>7.000000</td>\n",
       "      <td>4.000000</td>\n",
       "      <td>3.000000</td>\n",
       "      <td>3.000000</td>\n",
       "      <td>3.000000</td>\n",
       "      <td>3.000000</td>\n",
       "      <td>3.000000</td>\n",
       "      <td>20.000000</td>\n",
       "      <td>3000.000000</td>\n",
       "      <td>41415.000000</td>\n",
       "      <td>4.000000</td>\n",
       "      <td>14992.000000</td>\n",
       "    </tr>\n",
       "  </tbody>\n",
       "</table>\n",
       "</div>"
      ],
      "text/plain": [
       "               Type           Age        Breed1        Breed2        Gender  \\\n",
       "count  10582.000000  10582.000000  10582.000000  10582.000000  10582.000000   \n",
       "mean       1.454734     10.520412    265.469854     74.388868      1.779059   \n",
       "std        0.497970     18.374027     60.121490    123.434010      0.684763   \n",
       "min        1.000000      0.000000      0.000000      0.000000      1.000000   \n",
       "25%        1.000000      2.000000    265.000000      0.000000      1.000000   \n",
       "50%        1.000000      3.000000    266.000000      0.000000      2.000000   \n",
       "75%        2.000000     12.000000    307.000000    188.000000      2.000000   \n",
       "max        2.000000    255.000000    307.000000    307.000000      3.000000   \n",
       "\n",
       "             Color1        Color2        Color3  MaturitySize     FurLength  \\\n",
       "count  10582.000000  10582.000000  10582.000000  10582.000000  10582.000000   \n",
       "mean       2.230675      3.236912      1.856738      1.860518      1.460971   \n",
       "std        1.743985      2.748595      2.974465      0.547535      0.593843   \n",
       "min        1.000000      0.000000      0.000000      1.000000      1.000000   \n",
       "25%        1.000000      0.000000      0.000000      2.000000      1.000000   \n",
       "50%        2.000000      2.000000      0.000000      2.000000      1.000000   \n",
       "75%        3.000000      6.000000      5.000000      2.000000      2.000000   \n",
       "max        7.000000      7.000000      7.000000      4.000000      3.000000   \n",
       "\n",
       "         Vaccinated      Dewormed    Sterilized        Health      Quantity  \\\n",
       "count  10582.000000  10582.000000  10582.000000  10582.000000  10582.000000   \n",
       "mean       1.729730      1.566528      1.912115      1.036666      1.584011   \n",
       "std        0.670791      0.701482      0.564041      0.198228      1.488348   \n",
       "min        1.000000      1.000000      1.000000      1.000000      1.000000   \n",
       "25%        1.000000      1.000000      2.000000      1.000000      1.000000   \n",
       "50%        2.000000      1.000000      2.000000      1.000000      1.000000   \n",
       "75%        2.000000      2.000000      2.000000      1.000000      1.000000   \n",
       "max        3.000000      3.000000      3.000000      3.000000     20.000000   \n",
       "\n",
       "                Fee         State  AdoptionSpeed           PID  \n",
       "count  10582.000000  10582.000000   10582.000000  10582.000000  \n",
       "mean      20.809960  41345.994613       2.518900   7477.025799  \n",
       "std       78.397243     32.409109       1.176018   4310.921553  \n",
       "min        0.000000  41324.000000       0.000000      0.000000  \n",
       "25%        0.000000  41326.000000       2.000000   3768.250000  \n",
       "50%        0.000000  41326.000000       2.000000   7473.500000  \n",
       "75%        0.000000  41401.000000       4.000000  11200.750000  \n",
       "max     3000.000000  41415.000000       4.000000  14992.000000  "
      ]
     },
     "execution_count": 7,
     "metadata": {},
     "output_type": "execute_result"
    }
   ],
   "source": [
    "original_df.describe()"
   ]
  },
  {
   "cell_type": "code",
   "execution_count": 8,
   "metadata": {},
   "outputs": [
    {
     "data": {
      "text/plain": [
       "2    5104\n",
       "1    3908\n",
       "3    1570\n",
       "Name: Gender, dtype: int64"
      ]
     },
     "execution_count": 8,
     "metadata": {},
     "output_type": "execute_result"
    }
   ],
   "source": [
    "original_df[\"Gender\"].value_counts()"
   ]
  },
  {
   "cell_type": "code",
   "execution_count": 9,
   "metadata": {},
   "outputs": [
    {
     "data": {
      "text/plain": [
       "1     8140\n",
       "2     1022\n",
       "3      506\n",
       "4      372\n",
       "5      238\n",
       "6      133\n",
       "7       62\n",
       "8       37\n",
       "9       25\n",
       "10      17\n",
       "11       8\n",
       "20       8\n",
       "16       3\n",
       "15       3\n",
       "17       2\n",
       "13       2\n",
       "14       2\n",
       "18       1\n",
       "12       1\n",
       "Name: Quantity, dtype: int64"
      ]
     },
     "execution_count": 9,
     "metadata": {},
     "output_type": "execute_result"
    }
   ],
   "source": [
    "original_df[\"Quantity\"].value_counts()"
   ]
  },
  {
   "cell_type": "code",
   "execution_count": 10,
   "metadata": {},
   "outputs": [
    {
     "data": {
      "text/plain": [
       "41326    6138\n",
       "41401    2708\n",
       "41327     603\n",
       "41336     361\n",
       "41330     311\n",
       "41332     181\n",
       "41324      96\n",
       "41325      69\n",
       "41335      58\n",
       "41361      21\n",
       "41345      15\n",
       "41367      10\n",
       "41342      10\n",
       "41415       1\n",
       "Name: State, dtype: int64"
      ]
     },
     "execution_count": 10,
     "metadata": {},
     "output_type": "execute_result"
    }
   ],
   "source": [
    "original_df[\"State\"].value_counts()"
   ]
  },
  {
   "cell_type": "markdown",
   "metadata": {},
   "source": [
    "Create a function to transform the datasets. This is done by means of a function so that the transformations are the same for the training and testing datasets... We replace the encodings just to make it easy to \"visualize\" the data"
   ]
  },
  {
   "cell_type": "code",
   "execution_count": 11,
   "metadata": {},
   "outputs": [],
   "source": [
    "def transform_data(train_data_fname, test_data_fname):\n",
    "    def transform_columns(df):\n",
    "        df = df.drop([\"Description\"], axis=1)\n",
    "        df.Type = df.Type.replace({1: 'Dog', 2: 'Cat'})\n",
    "        df.Gender = df.Gender.replace({1:'Male', 2:'Female', 3:'Mixed'})\n",
    "        df.MaturitySize = df.MaturitySize.replace({1:'S', 2:'M', 3:'L', 4:'XL', 0:'N/A'})\n",
    "        df.FurLength = df.FurLength.replace({1:'S', 2:'M', 3:'L', 0:'N/A'})\n",
    "        df.Vaccinated = df.Vaccinated.replace({1:'T', 2:'N', 3:'N/A'})\n",
    "        df.Dewormed = df.Dewormed.replace({1:'T', 2:'F', 3:'N/A'})\n",
    "        df.Sterilized = df.Sterilized.replace({1:'T', 2:'F', 3:'N/A'})\n",
    "        df.Health = df.Health.replace({1:'Healthy', 2: 'MinorInjury', 3:'SeriousInjury', 0: 'N/A'})\n",
    "        df.Color1 = df.Color1.replace(dict(list(zip(color.ColorID, color.ColorName)) + [(0, \"N/A\")]))\n",
    "        df.Color2 = df.Color2.replace(dict(list(zip(color.ColorID, color.ColorName)) + [(0, \"N/A\")]))\n",
    "        df.Color3 = df.Color3.replace(dict(list(zip(color.ColorID, color.ColorName)) + [(0, \"N/A\")]))\n",
    "        df.Breed1 = df.Breed1.replace(dict(list(zip(breed.BreedID, breed.BreedName)) + [(0, \"N/A\")]))\n",
    "        df.Breed2 = df.Breed2.replace(dict(list(zip(breed.BreedID, breed.BreedName)) + [(0, \"N/A\")]))\n",
    "        return df\n",
    "    \n",
    "    df_train = pd.read_csv(train_data_fname)\n",
    "    df_train = transform_columns(df_train)\n",
    "    df_test = pd.read_csv(test_data_fname)\n",
    "    df_test = transform_columns(df_test)\n",
    "    \n",
    "    df = pd.concat([df_train, df_test], sort=True)\n",
    "\n",
    "    # set dummy variables for everything\n",
    "    # except from Age, Quantity, Fee\n",
    "    df = pd.get_dummies(df)\n",
    "    # get train and test back\n",
    "    n = len(df_train)\n",
    "    df_train = df.iloc[:n]\n",
    "    df_test = df.iloc[n:]\n",
    "    \n",
    "    y = df_train['AdoptionSpeed']\n",
    "    X = df_train.drop('AdoptionSpeed', axis=1)\n",
    "    yy = None\n",
    "    XX = df_test.drop('AdoptionSpeed', axis=1)\n",
    "\n",
    "    return X, y, XX, yy"
   ]
  },
  {
   "cell_type": "markdown",
   "metadata": {},
   "source": [
    "Load the data..."
   ]
  },
  {
   "cell_type": "code",
   "execution_count": 12,
   "metadata": {},
   "outputs": [],
   "source": [
    "X, y, XX, yy = transform_data(\"../data/train.csv\", \"../data/test.csv\")"
   ]
  },
  {
   "cell_type": "markdown",
   "metadata": {},
   "source": [
    "Create the model and evaluate it"
   ]
  },
  {
   "cell_type": "code",
   "execution_count": 13,
   "metadata": {},
   "outputs": [
    {
     "name": "stdout",
     "output_type": "stream",
     "text": [
      "Best Decision Tree accuracy:  0.35615599080068944\n",
      "DecisionTreeClassifier(class_weight=None, criterion='entropy', max_depth=None,\n",
      "                       max_features=None, max_leaf_nodes=None,\n",
      "                       min_impurity_decrease=0.0, min_impurity_split=None,\n",
      "                       min_samples_leaf=5, min_samples_split=100,\n",
      "                       min_weight_fraction_leaf=0.0, presort=False,\n",
      "                       random_state=50, splitter='best')\n",
      "The best classifier so far is: \n",
      "DecisionTreeClassifier(class_weight=None, criterion='entropy', max_depth=None,\n",
      "                       max_features=None, max_leaf_nodes=None,\n",
      "                       min_impurity_decrease=0.0, min_impurity_split=None,\n",
      "                       min_samples_leaf=5, min_samples_split=100,\n",
      "                       min_weight_fraction_leaf=0.0, presort=False,\n",
      "                       random_state=50, splitter='best')\n"
     ]
    }
   ],
   "source": [
    "# split training dataset into train and \"validation\" \n",
    "# (we won't be using validation set in this example, because of the cross-validation;\n",
    "# but it couldn be useful for you depending on your approach)\n",
    "from sklearn.model_selection import train_test_split\n",
    "X_train, X_valid, y_train, y_valid = train_test_split(X, y, test_size=0.3, random_state=50)\n",
    "\n",
    "from sklearn.metrics import accuracy_score\n",
    "from sklearn.model_selection import GridSearchCV\n",
    "\n",
    "results = pd.DataFrame(columns=('clf', 'best_acc'))\n",
    "\n",
    "from sklearn.tree import DecisionTreeClassifier as DT\n",
    "tree_param = {'criterion':('gini', 'entropy'), 'min_samples_leaf':(1, 2, 5),\n",
    "              'min_samples_split':(2, 3, 5, 10, 50, 100)}\n",
    "tree = DT(random_state=50)\n",
    "tree_clf = GridSearchCV(tree, tree_param, scoring='accuracy', cv=3, iid=False, n_jobs=-1)\n",
    "tree_clf.fit(X_train.drop([\"PID\"], axis=1), y_train)\n",
    "best_tree_clf = tree_clf.best_estimator_\n",
    "print('Best Decision Tree accuracy: ', tree_clf.best_score_)\n",
    "print(best_tree_clf)\n",
    "results = results.append({'clf': best_tree_clf, 'best_acc': tree_clf.best_score_}, ignore_index=True)\n",
    "\n",
    "print('The best classifier so far is: ')\n",
    "print(results.loc[results['best_acc'].idxmax()]['clf'])"
   ]
  },
  {
   "cell_type": "markdown",
   "metadata": {},
   "source": [
    "**And finally**, we predict the unknown label for the testing set"
   ]
  },
  {
   "cell_type": "code",
   "execution_count": 14,
   "metadata": {},
   "outputs": [
    {
     "data": {
      "text/plain": [
       "((10582, 360), (4411, 360))"
      ]
     },
     "execution_count": 14,
     "metadata": {},
     "output_type": "execute_result"
    }
   ],
   "source": [
    "X.shape, XX.shape"
   ]
  },
  {
   "cell_type": "code",
   "execution_count": 15,
   "metadata": {},
   "outputs": [],
   "source": [
    "yy = results.clf.iloc[0].predict(XX.drop([\"PID\"], axis=1))\n",
    "yy = yy.astype(np.int)"
   ]
  },
  {
   "cell_type": "markdown",
   "metadata": {},
   "source": [
    "The last thing we do is generating a file that should be *submitted* on kaggle"
   ]
  },
  {
   "cell_type": "code",
   "execution_count": 16,
   "metadata": {},
   "outputs": [],
   "source": [
    "submission = pd.DataFrame(list(zip(XX.PID, yy)), columns=[\"PID\", \"AdoptionSpeed\"])"
   ]
  },
  {
   "cell_type": "code",
   "execution_count": 17,
   "metadata": {},
   "outputs": [],
   "source": [
    "submission.to_csv(\"../data/submission.csv\", header=True, index=False)"
   ]
  }
 ],
 "metadata": {
  "kernelspec": {
   "display_name": "Python 3",
   "language": "python",
   "name": "python3"
  },
  "language_info": {
   "codemirror_mode": {
    "name": "ipython",
    "version": 3
   },
   "file_extension": ".py",
   "mimetype": "text/x-python",
   "name": "python",
   "nbconvert_exporter": "python",
   "pygments_lexer": "ipython3",
   "version": "3.7.3"
  }
 },
 "nbformat": 4,
 "nbformat_minor": 2
}
